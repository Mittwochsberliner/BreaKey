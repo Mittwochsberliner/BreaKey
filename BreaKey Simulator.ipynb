{
 "cells": [
  {
   "cell_type": "code",
   "execution_count": null,
   "metadata": {},
   "outputs": [],
   "source": [
    "import random\n",
    "import matplotlib.pyplot as plt\n",
    "import matplotlib.image as mpimg\n",
    "Key_1 = random.random()\n",
    "Key_2 = random.random()\n",
    "Win_Streak = 0\n",
    "Points = 0\n",
    "Loss_Streak = 0\n",
    "Rifts = 0\n",
    "Losses = 0\n",
    "print(\"initialization done\")\n",
    "print(Key_1)\n",
    "print(Key_2)\n"
   ]
  },
  {
   "cell_type": "code",
   "execution_count": null,
   "metadata": {},
   "outputs": [],
   "source": [
    "if Key_1 > Key_2:\n",
    "    print(\"Key 1 wins!\")\n",
    "    Win_Streak = Win_Streak + 1\n",
    "    Points = Points + 1\n",
    "    Loss_Streak = 0\n",
    "    Key_2 = random.random()\n",
    "    Key_1 = Key_1 - random.uniform(0, 0.1)\n",
    "elif Key_1 < Key_2:\n",
    "    print(\"Key 2 is victorious!\")\n",
    "    Win_Streak = 0\n",
    "    Loss_Streak = Loss_Streak + 1\n",
    "    Losses = Losses + 1\n",
    "    Key_1 = random.random()\n",
    "    Key_2 = Key_2 - random.uniform(0, 0.1)\n",
    "elif Key_1 == Key_2:\n",
    "    print(\"By miracle, both keys explode and create a space-time rift!\")\n",
    "    Win_Streak = 0\n",
    "    Loss_Streak = 0\n",
    "    Rifts = Rifts + 1\n",
    "    Key_1 = random.random()\n",
    "    Key_2 = random.random()\n",
    "\n",
    "print(\"You have wasted: $\", (Points + Losses)*0.35)\n",
    "print(\"Points:\", Points)\n",
    "print(\"Losses:\", Losses)\n",
    "print(\"Rifts:\", Rifts)\n",
    "print(\"Win streak:\", Win_Streak)\n",
    "print(\"Losing streak:\", Loss_Streak)\n",
    "\n",
    "if Points + Losses == 12:\n",
    "    print(\"You have wasted enough keys to build this cool robot!\")\n",
    "    image = mpimg.imread(\"robot.png\")\n",
    "    plt.imshow(image)\n",
    "    plt.axis(\"off\")\n",
    "    plt.show()\n",
    "if Points + Losses == 100:\n",
    "    print(\"You have wasted enough keys to build this cool castle!\")\n",
    "    image = mpimg.imread(\"castle.png\")\n",
    "    plt.imshow(image)\n",
    "    plt.axis(\"off\")\n",
    "    plt.show()"
   ]
  }
 ],
 "metadata": {
  "kernelspec": {
   "display_name": "Python 3",
   "language": "python",
   "name": "python3"
  },
  "language_info": {
   "codemirror_mode": {
    "name": "ipython",
    "version": 3
   },
   "file_extension": ".py",
   "mimetype": "text/x-python",
   "name": "python",
   "nbconvert_exporter": "python",
   "pygments_lexer": "ipython3",
   "version": "3.10.16"
  }
 },
 "nbformat": 4,
 "nbformat_minor": 2
}
